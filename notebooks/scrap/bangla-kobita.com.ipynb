{
 "cells": [
  {
   "cell_type": "code",
   "execution_count": 3,
   "outputs": [],
   "source": [
    "import os\n",
    "import requests\n",
    "from bs4 import BeautifulSoup, element as el"
   ],
   "metadata": {
    "collapsed": false,
    "pycharm": {
     "name": "#%%\n"
    }
   }
  },
  {
   "cell_type": "code",
   "execution_count": 4,
   "outputs": [],
   "source": [
    "ROOT_URL = 'https://www.bangla-kobita.com/'\n",
    "ROOT_DIR = 'bangla-kobita.com'\n",
    "ROOT_PATH = os.path.join('../../data', ROOT_DIR)\n",
    "if not os.path.exists(ROOT_PATH):\n",
    "    os.mkdir(ROOT_PATH)"
   ],
   "metadata": {
    "collapsed": false,
    "pycharm": {
     "name": "#%%\n"
    }
   }
  },
  {
   "cell_type": "code",
   "execution_count": 5,
   "outputs": [],
   "source": [
    "home_page_text = requests.get(ROOT_URL).text\n",
    "soup = BeautifulSoup(home_page_text)"
   ],
   "metadata": {
    "collapsed": false,
    "pycharm": {
     "name": "#%%\n"
    }
   }
  },
  {
   "cell_type": "code",
   "execution_count": 6,
   "outputs": [
    {
     "name": "stdout",
     "output_type": "stream",
     "text": [
      "অসীম সাহা /asimsaha/\n",
      "আবিদ আনোয়ার /abid50anwar/\n",
      "ঈশ্বরচন্দ্র গুপ্ত /ishwarchandragupta/\n",
      "কাজী নজরুল ইসলাম /nazrulislam/\n",
      "কামিনী রায় /kaminiroy/\n",
      "জয় গোস্বামী /joygoswami/\n",
      "জসীমউদ্দীন /jasimuddin/\n",
      "জীবনানন্দ দাশ /jibanananda/\n",
      "নির্মলেন্দু গুণ /nirmalendugoon/\n",
      "মাইকেল মধুসূদন দত্ত /madhusudan/\n",
      "মোহাম্মদ রফিকউজ্জামান /rafiquzzaman/\n",
      "যতীন্দ্রমোহন বাগচী /jatindramohan/\n",
      "রবীন্দ্রনাথ ঠাকুর /rabindranath/\n",
      "রাধারানী দেবী /radharanidevi/\n",
      "শক্তি চট্টোপাধ্যায় /shaktichattopadhyay/\n",
      "শামসুর রাহমান /shamsurrahman/\n",
      "সত্যেন্দ্রনাথ দত্ত /satyendranath/\n",
      "সুকান্ত ভট্টাচার্য /sukanta/\n",
      "সুকুমার রায় /sukumar/\n",
      "সুনীল গঙ্গোপাধ্যায় /sunilgangopadhyay/\n",
      "সুফিয়া কামাল /sufiakamal/\n",
      "সৈয়দ শামসুল হক /shamsulhaque/\n",
      "হেলাল হাফিজ /helalhafiz/\n"
     ]
    }
   ],
   "source": [
    "famous_h2 = soup.find_all('h2', text='খ্যাতিমান কবি')\n",
    "assert len(famous_h2) == 1\n",
    "famous_ul = famous_h2[0].parent.find_all('ul')\n",
    "assert len(famous_ul) == 1\n",
    "famous_links = famous_ul[0].findChildren('a')\n",
    "famous_link: el.Tag\n",
    "for famous_link in famous_links:\n",
    "    print(famous_link.text, famous_link.get('href'))"
   ],
   "metadata": {
    "collapsed": false,
    "pycharm": {
     "name": "#%%\n"
    }
   }
  },
  {
   "cell_type": "code",
   "execution_count": 7,
   "outputs": [
    {
     "name": "stdout",
     "output_type": "stream",
     "text": [
      "Completed: অসীম সাহা\n",
      "Completed: আবিদ আনোয়ার\n",
      "Completed: ঈশ্বরচন্দ্র গুপ্ত\n",
      "Completed: কাজী নজরুল ইসলাম\n",
      "Completed: কামিনী রায়\n",
      "Completed: জয় গোস্বামী\n",
      "Completed: জসীমউদ্দীন\n",
      "Completed: জীবনানন্দ দাশ\n",
      "Completed: নির্মলেন্দু গুণ\n",
      "Completed: মাইকেল মধুসূদন দত্ত\n",
      "Completed: মোহাম্মদ রফিকউজ্জামান\n",
      "Completed: যতীন্দ্রমোহন বাগচী\n",
      "Completed: রবীন্দ্রনাথ ঠাকুর\n",
      "Completed: রাধারানী দেবী\n",
      "Completed: শক্তি চট্টোপাধ্যায়\n",
      "Completed: শামসুর রাহমান\n",
      "Completed: সত্যেন্দ্রনাথ দত্ত\n",
      "Completed: সুকান্ত ভট্টাচার্য\n",
      "Completed: সুকুমার রায়\n",
      "Completed: সুনীল গঙ্গোপাধ্যায়\n",
      "Completed: সুফিয়া কামাল\n",
      "Completed: সৈয়দ শামসুল হক\n",
      "Completed: হেলাল হাফিজ\n"
     ]
    }
   ],
   "source": [
    "from urllib.parse import urljoin\n",
    "import json\n",
    "from time import sleep\n",
    "\n",
    "def scrap_author(uri: str, name: str):\n",
    "    content_path = os.path.join(ROOT_PATH, uri[1:] if uri.startswith('/') else uri)\n",
    "    if not os.path.exists(content_path):\n",
    "        os.mkdir(content_path)\n",
    "\n",
    "    while True:\n",
    "        url = urljoin(ROOT_URL, uri)\n",
    "        author_page_text = requests.get(url).text\n",
    "        author_soup = BeautifulSoup(author_page_text)\n",
    "        poem_table = author_soup.select('div.tab-pane#poem table', attrs={'class': 'post-list'})\n",
    "        assert len(poem_table) == 1, f'{len(poem_table)}: {url}'\n",
    "        poem_links = poem_table[0].findChildren('a')\n",
    "        poem_link: el.Tag\n",
    "        for poem_link in poem_links:\n",
    "            poem_uri = poem_link.get('href')\n",
    "            poem_url = urljoin(ROOT_URL, poem_uri)\n",
    "            poem_html = requests.get(poem_url).text\n",
    "            poem_soup = BeautifulSoup(poem_html)\n",
    "            h1 = poem_soup.find_all('h1')\n",
    "            assert len(h1) == 1\n",
    "            title = h1[0].text\n",
    "            content_div = poem_soup.find_all('div', attrs={'class': 'post-content'})\n",
    "            assert len(content_div) == 1\n",
    "            content = content_div[0].get_text(separator='\\n')\n",
    "\n",
    "            filename = list(filter(bool, poem_uri.split('/')))[-1]\n",
    "            file_path = os.path.join(content_path, f'{filename}.json')\n",
    "            with open(file_path, 'w', encoding='utf-8') as content_file:\n",
    "                data_dict = {'title': title.strip(), 'author': name.strip(), 'url': poem_url, 'content': content.strip()}\n",
    "                json.dump(data_dict, content_file, ensure_ascii=False)\n",
    "\n",
    "        next_page_li = author_soup.find_all('li', attrs={'class': 'PagedList-skipToNext'})\n",
    "        assert len(next_page_li) <= 1, len(next_page_li)\n",
    "        if len(next_page_li) == 0:\n",
    "            break\n",
    "\n",
    "        uri = next_page_li[0].find('a').get('href')\n",
    "\n",
    "for famous_link in famous_links:\n",
    "    scrap_author(uri=famous_link.get('href'), name=famous_link.text)\n",
    "    print(f'Completed: {famous_link.text}')\n",
    "    sleep(5)"
   ],
   "metadata": {
    "collapsed": false,
    "pycharm": {
     "name": "#%%\n"
    }
   }
  },
  {
   "cell_type": "code",
   "execution_count": 8,
   "outputs": [
    {
     "name": "stdout",
     "output_type": "stream",
     "text": [
      "Total 4472 entries scrapped\n"
     ]
    }
   ],
   "source": [
    "print(f'Total {sum(len(files) for *_, files in os.walk(ROOT_PATH))} entries scrapped')"
   ],
   "metadata": {
    "collapsed": false,
    "pycharm": {
     "name": "#%%\n"
    }
   }
  },
  {
   "cell_type": "code",
   "execution_count": 8,
   "outputs": [],
   "source": [],
   "metadata": {
    "collapsed": false,
    "pycharm": {
     "name": "#%%\n"
    }
   }
  }
 ],
 "metadata": {
  "kernelspec": {
   "display_name": "Python 3",
   "language": "python",
   "name": "python3"
  },
  "language_info": {
   "codemirror_mode": {
    "name": "ipython",
    "version": 2
   },
   "file_extension": ".py",
   "mimetype": "text/x-python",
   "name": "python",
   "nbconvert_exporter": "python",
   "pygments_lexer": "ipython2",
   "version": "2.7.6"
  }
 },
 "nbformat": 4,
 "nbformat_minor": 0
}