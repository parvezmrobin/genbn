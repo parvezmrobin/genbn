{
 "cells": [
  {
   "cell_type": "code",
   "execution_count": 1,
   "outputs": [],
   "source": [
    "import os\n",
    "import requests\n",
    "from bs4 import BeautifulSoup, element as el"
   ],
   "metadata": {
    "collapsed": false,
    "pycharm": {
     "name": "#%%\n"
    }
   }
  },
  {
   "cell_type": "code",
   "execution_count": 2,
   "outputs": [],
   "source": [
    "ROOT_URL = 'https://banglarkobita.com/poet/famous_list'\n",
    "ROOT_DIR = 'banglarkobita.com'\n",
    "ROOT_PATH = os.path.join('../../data', ROOT_DIR)\n",
    "if not os.path.exists(ROOT_PATH):\n",
    "    os.mkdir(ROOT_PATH)"
   ],
   "metadata": {
    "collapsed": false,
    "pycharm": {
     "name": "#%%\n"
    }
   }
  },
  {
   "cell_type": "code",
   "execution_count": 3,
   "outputs": [],
   "source": [
    "home_page_text = requests.get(ROOT_URL).text\n",
    "soup = BeautifulSoup(home_page_text)"
   ],
   "metadata": {
    "collapsed": false,
    "pycharm": {
     "name": "#%%\n"
    }
   }
  },
  {
   "cell_type": "code",
   "execution_count": 4,
   "outputs": [
    {
     "name": "stdout",
     "output_type": "stream",
     "text": [
      "যোগীন্দ্রনাথ সরকার https://banglarkobita.com/poet/famous/23\n",
      "সুফিয়া কামাল https://banglarkobita.com/poet/famous/29\n",
      "রোকনুজ্জামান খান https://banglarkobita.com/poet/famous/30\n",
      "সুকুমার রায় https://banglarkobita.com/poet/famous/31\n",
      "জসীম উদ্‌দীন https://banglarkobita.com/poet/famous/32\n",
      "কাজী নজরুল ইসলাম https://banglarkobita.com/poet/famous/41\n",
      "আ. ন. ম. বজলুর রশীদ https://banglarkobita.com/poet/famous/43\n",
      "রবীন্দ্রনাথ ঠাকুর https://banglarkobita.com/poet/famous/44\n",
      "শামসুর রাহমান https://banglarkobita.com/poet/famous/46\n",
      "নবকৃষ্ণ ভট্টাচার্য https://banglarkobita.com/poet/famous/47\n",
      "যতীন্দ্রমোহন বাগচী https://banglarkobita.com/poet/famous/48\n",
      "সত্যেন্দ্রনাথ দত্ত https://banglarkobita.com/poet/famous/49\n",
      "সুকান্ত ভট্টাচার্য https://banglarkobita.com/poet/famous/50\n",
      "নির্মলেন্দু গুণ https://banglarkobita.com/poet/famous/51\n",
      "আলাউদ্দিন আল আজাদ https://banglarkobita.com/poet/famous/52\n",
      "হেলাল হাফিজ https://banglarkobita.com/poet/famous/53\n",
      "তসলিমা নাসরিন https://banglarkobita.com/poet/famous/54\n",
      "হুমায়ুন আজাদ https://banglarkobita.com/poet/famous/55\n",
      "মাইকেল মধুসূদন দত্ত https://banglarkobita.com/poet/famous/56\n",
      "আসাদ চৌধুরী https://banglarkobita.com/poet/famous/57\n",
      "হুমায়ূন আহমেদ https://banglarkobita.com/poet/famous/58\n",
      "জীবনানন্দ দাশ https://banglarkobita.com/poet/famous/59\n",
      "পূর্ণেন্দু পত্রী https://banglarkobita.com/poet/famous/60\n",
      "সুনীল গঙ্গোপাধ্যায় https://banglarkobita.com/poet/famous/61\n",
      "রুদ্র মুহম্মদ শহীদুল্লাহ https://banglarkobita.com/poet/famous/62\n",
      "মহাদেব সাহা https://banglarkobita.com/poet/famous/63\n",
      "রফিক আজাদ https://banglarkobita.com/poet/famous/64\n",
      "জয় গোস্বামী https://banglarkobita.com/poet/famous/65\n",
      "গোবিন্দচন্দ্র দাস https://banglarkobita.com/poet/famous/66\n",
      "আনিসুল হক https://banglarkobita.com/poet/famous/67\n",
      "আবুল হাসান https://banglarkobita.com/poet/famous/69\n",
      "তানভীর মুহাম্মদ ত্বকী https://banglarkobita.com/poet/famous/70\n",
      "বঙ্কিমচন্দ্র চট্টোপাধ্যায় https://banglarkobita.com/poet/famous/71\n",
      "শক্তি চট্টোপাধ্যায় https://banglarkobita.com/poet/famous/72\n",
      "দেওয়ান মমিনুল মউজদীন https://banglarkobita.com/poet/famous/73\n",
      "শঙ্খ ঘোষ https://banglarkobita.com/poet/famous/74\n",
      "নীরেন্দ্রনাথ চক্রবর্তী https://banglarkobita.com/poet/famous/75\n",
      "মলয় রায়চৌধুরী https://banglarkobita.com/poet/famous/76\n",
      "সৈয়দ শামসুল হক https://banglarkobita.com/poet/famous/78\n",
      "মুহম্মদ জাফর ইকবাল https://banglarkobita.com/poet/famous/79\n"
     ]
    }
   ],
   "source": [
    "famous_table = soup.find_all('table', attrs={'class': 'table_poem_list'})\n",
    "assert len(famous_table) == 1\n",
    "famous_links = famous_table[0].findChildren('a')\n",
    "famous_link: el.Tag\n",
    "for famous_link in famous_links:\n",
    "    print(famous_link.text, famous_link.get('href'))"
   ],
   "metadata": {
    "collapsed": false,
    "pycharm": {
     "name": "#%%\n"
    }
   }
  },
  {
   "cell_type": "code",
   "execution_count": 5,
   "outputs": [
    {
     "name": "stdout",
     "output_type": "stream",
     "text": [
      "Completed: যোগীন্দ্রনাথ সরকার\n",
      "Completed: সুফিয়া কামাল\n",
      "Completed: রোকনুজ্জামান খান\n",
      "Completed: সুকুমার রায়\n",
      "Completed: জসীম উদ্‌দীন\n",
      "Completed: কাজী নজরুল ইসলাম\n",
      "Completed: আ. ন. ম. বজলুর রশীদ\n",
      "Completed: রবীন্দ্রনাথ ঠাকুর\n",
      "Completed: শামসুর রাহমান\n",
      "Completed: নবকৃষ্ণ ভট্টাচার্য\n",
      "Completed: যতীন্দ্রমোহন বাগচী\n",
      "Completed: সত্যেন্দ্রনাথ দত্ত\n",
      "Completed: সুকান্ত ভট্টাচার্য\n",
      "Completed: নির্মলেন্দু গুণ\n",
      "Completed: আলাউদ্দিন আল আজাদ\n",
      "Completed: হেলাল হাফিজ\n",
      "Completed: তসলিমা নাসরিন\n",
      "Completed: হুমায়ুন আজাদ\n",
      "Completed: মাইকেল মধুসূদন দত্ত\n",
      "Completed: আসাদ চৌধুরী\n",
      "Completed: হুমায়ূন আহমেদ\n",
      "Completed: জীবনানন্দ দাশ\n",
      "Completed: পূর্ণেন্দু পত্রী\n",
      "Completed: সুনীল গঙ্গোপাধ্যায়\n",
      "Completed: রুদ্র মুহম্মদ শহীদুল্লাহ\n",
      "Completed: মহাদেব সাহা\n",
      "Completed: রফিক আজাদ\n",
      "Completed: জয় গোস্বামী\n",
      "Completed: গোবিন্দচন্দ্র দাস\n",
      "Completed: আনিসুল হক\n",
      "Completed: আবুল হাসান\n",
      "Completed: তানভীর মুহাম্মদ ত্বকী\n",
      "Completed: বঙ্কিমচন্দ্র চট্টোপাধ্যায়\n",
      "Completed: শক্তি চট্টোপাধ্যায়\n",
      "Completed: দেওয়ান মমিনুল মউজদীন\n",
      "Completed: শঙ্খ ঘোষ\n",
      "Completed: নীরেন্দ্রনাথ চক্রবর্তী\n",
      "Completed: মলয় রায়চৌধুরী\n",
      "Completed: সৈয়দ শামসুল হক\n",
      "Completed: মুহম্মদ জাফর ইকবাল\n"
     ]
    }
   ],
   "source": [
    "import json\n",
    "from time import sleep\n",
    "\n",
    "def scrap_author(url: str, name: str):\n",
    "    content_path = os.path.join(ROOT_PATH, url.split('/')[-1])\n",
    "    if not os.path.exists(content_path):\n",
    "        os.mkdir(content_path)\n",
    "\n",
    "    author_page_text = requests.get(url).text\n",
    "    author_soup = BeautifulSoup(author_page_text)\n",
    "    poem_table = author_soup.find_all('table', attrs={'class': 'table_poem_list'})\n",
    "    assert len(poem_table) == 1, f'{len(poem_table)}: {url}'\n",
    "    poem_links = poem_table[0].select('td:first-child a')\n",
    "    poem_link: el.Tag\n",
    "    for poem_link in poem_links:\n",
    "        poem_url = poem_link.get('href')\n",
    "        poem_html = requests.get(poem_url).text\n",
    "        poem_soup = BeautifulSoup(poem_html)\n",
    "        content_divs = poem_soup.find_all('div', attrs={'class': 'post_description'})\n",
    "        assert len(content_divs) == 1\n",
    "        content_div: el.Tag = content_divs[0]\n",
    "        h1 = content_div.find_all('h6')\n",
    "        assert len(h1) == 1, poem_url\n",
    "        title = h1[0].text\n",
    "        h1.clear()\n",
    "        content_div.find_all('span').clear()\n",
    "        content = content_div.get_text(separator='\\n')\n",
    "\n",
    "        filename = list(filter(bool, poem_url.split('/')))[-1]\n",
    "        file_path = os.path.join(content_path, f'{filename}.json')\n",
    "        with open(file_path, 'w', encoding='utf-8') as content_file:\n",
    "            data_obj = {'title': title.strip(), 'author': name.strip(), 'url': poem_url, 'content': content.strip()}\n",
    "            json.dump(data_obj, content_file, ensure_ascii=False)\n",
    "\n",
    "for famous_link in famous_links:\n",
    "    scrap_author(url=famous_link.get('href'), name=famous_link.text)\n",
    "    print(f'Completed: {famous_link.text}')\n",
    "    sleep(5)"
   ],
   "metadata": {
    "collapsed": false,
    "pycharm": {
     "name": "#%%\n"
    }
   }
  },
  {
   "cell_type": "code",
   "execution_count": 6,
   "outputs": [
    {
     "name": "stdout",
     "output_type": "stream",
     "text": [
      "Total 2035 entries scrapped\n"
     ]
    }
   ],
   "source": [
    "print(f'Total {sum([len(files) for *_, files in os.walk(ROOT_PATH)])} entries scrapped')"
   ],
   "metadata": {
    "collapsed": false,
    "pycharm": {
     "name": "#%%\n"
    }
   }
  },
  {
   "cell_type": "code",
   "execution_count": 6,
   "outputs": [],
   "source": [],
   "metadata": {
    "collapsed": false,
    "pycharm": {
     "name": "#%%\n"
    }
   }
  }
 ],
 "metadata": {
  "kernelspec": {
   "display_name": "Python 3",
   "language": "python",
   "name": "python3"
  },
  "language_info": {
   "codemirror_mode": {
    "name": "ipython",
    "version": 2
   },
   "file_extension": ".py",
   "mimetype": "text/x-python",
   "name": "python",
   "nbconvert_exporter": "python",
   "pygments_lexer": "ipython2",
   "version": "2.7.6"
  }
 },
 "nbformat": 4,
 "nbformat_minor": 0
}