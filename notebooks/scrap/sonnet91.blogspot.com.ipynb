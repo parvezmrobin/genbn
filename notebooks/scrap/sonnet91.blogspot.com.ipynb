{
 "cells": [
  {
   "cell_type": "code",
   "execution_count": 1,
   "outputs": [],
   "source": [
    "import os\n",
    "import requests\n",
    "from bs4 import BeautifulSoup, element as el"
   ],
   "metadata": {
    "collapsed": false,
    "pycharm": {
     "name": "#%%\n"
    }
   }
  },
  {
   "cell_type": "code",
   "execution_count": 2,
   "outputs": [],
   "source": [
    "ROOT_URL = 'http://sonnet91.blogspot.com/'\n",
    "ROOT_DIR = 'sonnet91.blogspot.com'\n",
    "ROOT_PATH = os.path.join('../../data', ROOT_DIR)\n",
    "if not os.path.exists(ROOT_PATH):\n",
    "    os.mkdir(ROOT_PATH)"
   ],
   "metadata": {
    "collapsed": false,
    "pycharm": {
     "name": "#%%\n"
    }
   }
  },
  {
   "cell_type": "code",
   "execution_count": 3,
   "outputs": [
    {
     "name": "stdout",
     "output_type": "stream",
     "text": [
      "রুপসী বাংলা http://sonnet91.blogspot.com/search/label/%E0%A6%B0%E0%A7%81%E0%A6%AA%E0%A6%B8%E0%A7%80%20%E0%A6%AC%E0%A6%BE%E0%A6%82%E0%A6%B2%E0%A6%BE\n",
      "অপ্রকাশিত http://sonnet91.blogspot.com/search/label/%E0%A6%85%E0%A6%AA%E0%A7%8D%E0%A6%B0%E0%A6%95%E0%A6%BE%E0%A6%B6%E0%A6%BF%E0%A6%A4\n",
      "সাতটি তারার তিমির http://sonnet91.blogspot.com/search/label/%E0%A6%B8%E0%A6%BE%E0%A6%A4%E0%A6%9F%E0%A6%BF%20%E0%A6%A4%E0%A6%BE%E0%A6%B0%E0%A6%BE%E0%A6%B0%20%E0%A6%A4%E0%A6%BF%E0%A6%AE%E0%A6%BF%E0%A6%B0\n",
      "বনলতা সেন http://sonnet91.blogspot.com/search/label/%E0%A6%AC%E0%A6%A8%E0%A6%B2%E0%A6%A4%E0%A6%BE%20%E0%A6%B8%E0%A7%87%E0%A6%A8\n",
      "ঝরা পালক http://sonnet91.blogspot.com/search/label/%E0%A6%9D%E0%A6%B0%E0%A6%BE%20%E0%A6%AA%E0%A6%BE%E0%A6%B2%E0%A6%95\n",
      "ধূসর পাণ্ডুলিপি http://sonnet91.blogspot.com/search/label/%E0%A6%A7%E0%A7%82%E0%A6%B8%E0%A6%B0%20%E0%A6%AA%E0%A6%BE%E0%A6%A3%E0%A7%8D%E0%A6%A1%E0%A7%81%E0%A6%B2%E0%A6%BF%E0%A6%AA%E0%A6%BF\n",
      "বেলা অবেলা কালবেলা http://sonnet91.blogspot.com/search/label/%E0%A6%AC%E0%A7%87%E0%A6%B2%E0%A6%BE%20%E0%A6%85%E0%A6%AC%E0%A7%87%E0%A6%B2%E0%A6%BE%20%E0%A6%95%E0%A6%BE%E0%A6%B2%E0%A6%AC%E0%A7%87%E0%A6%B2%E0%A6%BE\n",
      "মহাপৃথিবী http://sonnet91.blogspot.com/search/label/%E0%A6%AE%E0%A6%B9%E0%A6%BE%E0%A6%AA%E0%A7%83%E0%A6%A5%E0%A6%BF%E0%A6%AC%E0%A7%80\n",
      "শ্রেষ্ঠ কবিতা http://sonnet91.blogspot.com/search/label/%E0%A6%B6%E0%A7%8D%E0%A6%B0%E0%A7%87%E0%A6%B7%E0%A7%8D%E0%A6%A0%20%E0%A6%95%E0%A6%AC%E0%A6%BF%E0%A6%A4%E0%A6%BE\n"
     ]
    }
   ],
   "source": [
    "index_html = requests.get(ROOT_URL).text\n",
    "index_soup = BeautifulSoup(index_html)\n",
    "book_div = index_soup.find_all('div', attrs={'class': 'categories'})\n",
    "assert len(book_div) == 1\n",
    "book_anchors = book_div[0].find_all('a')\n",
    "book_anchor: el.Tag\n",
    "for book_anchor in book_anchors:\n",
    "    print(book_anchor.text.strip(), book_anchor.get('href'))"
   ],
   "metadata": {
    "collapsed": false,
    "pycharm": {
     "name": "#%%\n"
    }
   }
  },
  {
   "cell_type": "code",
   "execution_count": 4,
   "outputs": [],
   "source": [
    "import json\n",
    "import re\n",
    "\n",
    "def scrap_book(url: str, name: str):\n",
    "    content_path = os.path.join(ROOT_PATH, name)\n",
    "    if not os.path.exists(content_path):\n",
    "        os.mkdir(content_path)\n",
    "\n",
    "    while True:\n",
    "        book_html = requests.get(url).text\n",
    "        book_soup = BeautifulSoup(book_html)\n",
    "\n",
    "        poems = book_soup.select('.post.hentry')\n",
    "        poem: el.Tag\n",
    "        for poem in poems:\n",
    "            h3 = poem.find_all('h3')\n",
    "            assert len(h3) == 1, len(h3)\n",
    "            title = h3[0].text.strip()\n",
    "\n",
    "            p = poem.select('div.post-inner p')\n",
    "            assert len(p) == 1, f'{len(p)}: {title}'\n",
    "            content = p[0].get_text(separator='\\n').strip()\n",
    "\n",
    "            data_obj = {\n",
    "                'title': title, 'author': 'জীবনানন্দ দাশ', 'url': url, 'content': content\n",
    "            }\n",
    "\n",
    "            filepath = os.path.join(content_path, re.sub(\"[^\\\\u0980-\\\\u09FF]\", \"_\", title) + '.json')\n",
    "            with open(filepath, 'w', encoding='utf-8') as file:\n",
    "                json.dump(data_obj, file, ensure_ascii=False)\n",
    "\n",
    "        next_page_anchor = book_soup.find_all('a', attrs={'class': 'blog-pager-older-link'})\n",
    "        assert len(next_page_anchor) <= 1, f'{len(next_page_anchor)}: {url}'\n",
    "\n",
    "        if len(next_page_anchor) == 0:\n",
    "            break\n",
    "\n",
    "        url = next_page_anchor[0].get('href')"
   ],
   "metadata": {
    "collapsed": false,
    "pycharm": {
     "name": "#%%\n"
    }
   }
  },
  {
   "cell_type": "code",
   "execution_count": 5,
   "outputs": [
    {
     "name": "stdout",
     "output_type": "stream",
     "text": [
      "Scrapped: রুপসী বাংলা\n",
      "Scrapped: অপ্রকাশিত\n",
      "Scrapped: সাতটি তারার তিমির\n",
      "Scrapped: বনলতা সেন\n",
      "Scrapped: ঝরা পালক\n",
      "Scrapped: ধূসর পাণ্ডুলিপি\n",
      "Scrapped: বেলা অবেলা কালবেলা\n",
      "Scrapped: মহাপৃথিবী\n",
      "Scrapped: শ্রেষ্ঠ কবিতা\n"
     ]
    }
   ],
   "source": [
    "from time import sleep\n",
    "\n",
    "for book_anchor in book_anchors:\n",
    "    scrap_book(book_anchor.get('href'), book_anchor.text.strip())\n",
    "    print(f'Scrapped: {book_anchor.text.strip()}')\n",
    "\n",
    "    sleep(10)"
   ],
   "metadata": {
    "collapsed": false,
    "pycharm": {
     "name": "#%%\n"
    }
   }
  },
  {
   "cell_type": "code",
   "execution_count": 6,
   "outputs": [
    {
     "name": "stdout",
     "output_type": "stream",
     "text": [
      "Total 260 entries scrapped\n"
     ]
    }
   ],
   "source": [
    "print(f'Total {sum(len(files) for *_, files in os.walk(ROOT_PATH))} entries scrapped')"
   ],
   "metadata": {
    "collapsed": false,
    "pycharm": {
     "name": "#%%\n"
    }
   }
  },
  {
   "cell_type": "code",
   "execution_count": 6,
   "outputs": [],
   "source": [],
   "metadata": {
    "collapsed": false,
    "pycharm": {
     "name": "#%%\n"
    }
   }
  }
 ],
 "metadata": {
  "kernelspec": {
   "display_name": "Python 3",
   "language": "python",
   "name": "python3"
  },
  "language_info": {
   "codemirror_mode": {
    "name": "ipython",
    "version": 2
   },
   "file_extension": ".py",
   "mimetype": "text/x-python",
   "name": "python",
   "nbconvert_exporter": "python",
   "pygments_lexer": "ipython2",
   "version": "2.7.6"
  }
 },
 "nbformat": 4,
 "nbformat_minor": 0
}