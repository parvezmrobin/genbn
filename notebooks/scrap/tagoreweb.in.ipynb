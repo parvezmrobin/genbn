{
 "cells": [
  {
   "cell_type": "code",
   "execution_count": 2,
   "outputs": [],
   "source": [
    "import os\n",
    "import requests\n",
    "from bs4 import BeautifulSoup, element as el"
   ],
   "metadata": {
    "collapsed": false,
    "pycharm": {
     "name": "#%%\n"
    }
   }
  },
  {
   "cell_type": "code",
   "execution_count": 4,
   "outputs": [],
   "source": [
    "ROOT_URL = 'https://www.tagoreweb.in/'\n",
    "ROOT_DIR = 'tagoreweb.in'\n",
    "ROOT_PATH = os.path.join('../../data', ROOT_DIR)\n",
    "if not os.path.exists(ROOT_PATH):\n",
    "    os.mkdir(ROOT_PATH)"
   ],
   "metadata": {
    "collapsed": false,
    "pycharm": {
     "name": "#%%\n"
    }
   }
  },
  {
   "cell_type": "code",
   "execution_count": 7,
   "outputs": [],
   "source": [
    "import json\n",
    "import re\n",
    "from time import sleep\n",
    "from urllib.parse import urljoin\n",
    "\n",
    "def scrap_alphabetic(writing_type: str):\n",
    "    assert writing_type in ('Verses', 'Songs'), writing_type\n",
    "\n",
    "    content_path = os.path.join(ROOT_PATH, writing_type)\n",
    "    if not os.path.exists(content_path):\n",
    "        os.mkdir(content_path)\n",
    "\n",
    "    url = urljoin(ROOT_URL, f'{writing_type}/alphabetic-index')\n",
    "    anchors = get_anchors_from_index(url)\n",
    "    bn_anchors = [a for a in anchors if ord(a.text.strip()) > 256]\n",
    "    bn_links = {\n",
    "        bn_anchor.text.strip(): urljoin(ROOT_URL, bn_anchor.get('href'))\n",
    "        for bn_anchor in bn_anchors\n",
    "    }\n",
    "    for key, bn_link in bn_links.items():\n",
    "        poem_anchors = get_anchors_from_index(bn_link)\n",
    "        poem_links = [urljoin(ROOT_URL, poem_anchor.get('href')) for poem_anchor in poem_anchors]\n",
    "        for poem_link in poem_links:\n",
    "            poem_text = requests.get(poem_link).text\n",
    "            poem_soup = BeautifulSoup(poem_text)\n",
    "            content_div = poem_soup.find_all('div', attrs={'class': 'content-right'})\n",
    "            assert len(content_div) == 1, len(content_div)\n",
    "            content_div: el.Tag = content_div[0]\n",
    "\n",
    "            # get title\n",
    "            h2 = content_div.find_all('h2')\n",
    "            assert len(h2) == 1, len(h2)\n",
    "            title = h2[0].text.strip()\n",
    "            title = re.sub('\\\\s+', ' ', title)\n",
    "\n",
    "            # remove headers\n",
    "            content_div.find_all(re.compile('^h[1-6]$')).clear()\n",
    "\n",
    "            # finalize data\n",
    "            content = content_div.get_text(separator='\\n').strip()\n",
    "            data_dict = {'title': title, 'author': 'রবীন্দ্রনাথ ঠাকুর', 'url': poem_link, 'content': content}\n",
    "\n",
    "            # write to file\n",
    "            filename = list(filter(bool, poem_link.split('/')))[-1]\n",
    "            file_path = os.path.join(content_path, f'{filename}.json')\n",
    "            with open(file_path, 'w', encoding='utf-8') as content_file:\n",
    "                json.dump(data_dict, content_file, ensure_ascii=False)\n",
    "\n",
    "        print('Scrapped:', key)\n",
    "        sleep(30)\n",
    "\n",
    "\n",
    "def get_anchors_from_index(url: str) -> el.ResultSet[el.Tag]:\n",
    "    index_page_text = requests.get(url).text\n",
    "    index_soup = BeautifulSoup(index_page_text)\n",
    "    index_div = index_soup.find_all('div', attrs={'class': 'suchi_patra_area'})\n",
    "    assert len(index_div) == 1, len(index_div)\n",
    "    index_div: el.Tag = index_div[0]\n",
    "    links = index_div.find_all('a')\n",
    "    return links"
   ],
   "metadata": {
    "collapsed": false,
    "pycharm": {
     "name": "#%%\n"
    }
   }
  },
  {
   "cell_type": "code",
   "execution_count": null,
   "outputs": [],
   "source": [
    "scrap_alphabetic('Verses')"
   ],
   "metadata": {
    "collapsed": false,
    "pycharm": {
     "name": "#%%\n"
    }
   }
  },
  {
   "cell_type": "code",
   "execution_count": 5,
   "outputs": [
    {
     "name": "stdout",
     "output_type": "stream",
     "text": [
      "Total 3233 entries scrapped\n"
     ]
    }
   ],
   "source": [
    "print(f'Total {sum(len(files) for *_, files in os.walk(os.path.join(ROOT_PATH, \"Verses\")))} entries scrapped')"
   ],
   "metadata": {
    "collapsed": false,
    "pycharm": {
     "name": "#%%\n"
    }
   }
  },
  {
   "cell_type": "code",
   "execution_count": 8,
   "outputs": [
    {
     "name": "stdout",
     "output_type": "stream",
     "text": [
      "Scrapped: অ\n",
      "Scrapped: আ\n",
      "Scrapped: ই\n",
      "Scrapped: উ\n",
      "Scrapped: এ\n",
      "Scrapped: ও\n",
      "Scrapped: ক\n",
      "Scrapped: খ\n",
      "Scrapped: গ\n",
      "Scrapped: ঘ\n",
      "Scrapped: চ\n",
      "Scrapped: ছ\n",
      "Scrapped: জ\n",
      "Scrapped: ঝ\n",
      "Scrapped: ঠ\n",
      "Scrapped: ড\n",
      "Scrapped: ঢ\n",
      "Scrapped: ত\n",
      "Scrapped: থ\n",
      "Scrapped: দ\n",
      "Scrapped: ধ\n",
      "Scrapped: ন\n",
      "Scrapped: প\n",
      "Scrapped: ফ\n",
      "Scrapped: ব\n",
      "Scrapped: ভ\n",
      "Scrapped: ম\n",
      "Scrapped: য\n",
      "Scrapped: র\n",
      "Scrapped: ল\n",
      "Scrapped: শ\n",
      "Scrapped: স\n",
      "Scrapped: হ\n"
     ]
    }
   ],
   "source": [
    "scrap_alphabetic('Songs')"
   ],
   "metadata": {
    "collapsed": false,
    "pycharm": {
     "name": "#%%\n"
    }
   }
  },
  {
   "cell_type": "code",
   "execution_count": 9,
   "outputs": [
    {
     "name": "stdout",
     "output_type": "stream",
     "text": [
      "Total 2272 entries scrapped\n"
     ]
    }
   ],
   "source": [
    "print(f'Total {sum(len(files) for *_, files in os.walk(os.path.join(ROOT_PATH, \"Songs\")))} entries scrapped')"
   ],
   "metadata": {
    "collapsed": false,
    "pycharm": {
     "name": "#%%\n"
    }
   }
  },
  {
   "cell_type": "code",
   "execution_count": null,
   "outputs": [],
   "source": [],
   "metadata": {
    "collapsed": false,
    "pycharm": {
     "name": "#%%\n"
    }
   }
  }
 ],
 "metadata": {
  "kernelspec": {
   "display_name": "Python 3",
   "language": "python",
   "name": "python3"
  },
  "language_info": {
   "codemirror_mode": {
    "name": "ipython",
    "version": 2
   },
   "file_extension": ".py",
   "mimetype": "text/x-python",
   "name": "python",
   "nbconvert_exporter": "python",
   "pygments_lexer": "ipython2",
   "version": "2.7.6"
  }
 },
 "nbformat": 4,
 "nbformat_minor": 0
}