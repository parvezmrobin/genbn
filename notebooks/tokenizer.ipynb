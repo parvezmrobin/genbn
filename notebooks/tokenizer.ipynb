{
 "cells": [
  {
   "cell_type": "code",
   "execution_count": 1,
   "outputs": [],
   "source": [
    "from tokenizers import Tokenizer\n",
    "from tokenizers.models import WordPiece\n",
    "from tokenizers.trainers import WordPieceTrainer"
   ],
   "metadata": {
    "collapsed": false,
    "pycharm": {
     "name": "#%%\n"
    }
   }
  },
  {
   "cell_type": "code",
   "execution_count": 2,
   "outputs": [],
   "source": [
    "tokenizer = Tokenizer(WordPiece(unk_token=\"[UNK]\"))\n",
    "trainer = WordPieceTrainer(vocab_size=32000, special_tokens=[\"[UNK]\", \"[CLS]\", \"[SEP]\", \"[PAD]\", \"[MASK]\"])"
   ],
   "metadata": {
    "collapsed": false,
    "pycharm": {
     "name": "#%%\n"
    }
   }
  },
  {
   "cell_type": "code",
   "execution_count": 3,
   "outputs": [],
   "source": [
    "def create_data_generator():\n",
    "    import json\n",
    "    import os\n",
    "    from pandas.io.parsers.readers import read_csv\n",
    "\n",
    "    # num data = 437948 + 12272\n",
    "    newspaper_dir = 'bangla-newspaper'\n",
    "    data_dirs = [dir_name for dir_name in os.listdir('../data') if dir_name != newspaper_dir]\n",
    "    newspaper_df = read_csv('../data/bangla-newspaper/data.csv')\n",
    "\n",
    "    yield from [title for title in newspaper_df['title'] if type(title) is str]\n",
    "    yield from [content for content in newspaper_df['content'] if type(content) is str]\n",
    "\n",
    "    for data_dir in data_dirs:\n",
    "        data_dir_path = os.path.join('../data', data_dir)\n",
    "        assert os.path.exists(data_dir_path), data_dir_path\n",
    "        for dir_name, _, files in os.walk(data_dir_path):\n",
    "            for filename in files:\n",
    "                assert filename.endswith('.json'), os.path.join(dir_name, filename)\n",
    "\n",
    "                filepath = os.path.join(dir_name, filename)\n",
    "                with open(filepath, 'r', encoding='utf-8') as json_file:\n",
    "                    data_obj = json.load(json_file)\n",
    "                    yield data_obj['title']\n",
    "                    yield data_obj['author']\n",
    "                    yield data_obj['content']"
   ],
   "metadata": {
    "collapsed": false,
    "pycharm": {
     "name": "#%%\n"
    }
   }
  },
  {
   "cell_type": "code",
   "execution_count": null,
   "outputs": [],
   "source": [
    "tokenizer.train_from_iterator(create_data_generator(), trainer, length=437948 + 12272)"
   ],
   "metadata": {
    "collapsed": false,
    "pycharm": {
     "name": "#%%\n",
     "is_executing": true
    }
   }
  },
  {
   "cell_type": "code",
   "execution_count": null,
   "outputs": [],
   "source": [
    "tokenizer.save('../data/sentence-piece.json')"
   ],
   "metadata": {
    "collapsed": false,
    "pycharm": {
     "name": "#%%\n",
     "is_executing": true
    }
   }
  },
  {
   "cell_type": "code",
   "execution_count": null,
   "outputs": [],
   "source": [],
   "metadata": {
    "collapsed": false,
    "pycharm": {
     "name": "#%%\n",
     "is_executing": true
    }
   }
  }
 ],
 "metadata": {
  "kernelspec": {
   "display_name": "Python 3",
   "language": "python",
   "name": "python3"
  },
  "language_info": {
   "codemirror_mode": {
    "name": "ipython",
    "version": 2
   },
   "file_extension": ".py",
   "mimetype": "text/x-python",
   "name": "python",
   "nbconvert_exporter": "python",
   "pygments_lexer": "ipython2",
   "version": "2.7.6"
  }
 },
 "nbformat": 4,
 "nbformat_minor": 0
}